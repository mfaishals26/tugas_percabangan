{
 "cells": [
  {
   "cell_type": "code",
   "execution_count": 41,
   "id": "ba9bb719-34e5-418c-9951-16718affd456",
   "metadata": {},
   "outputs": [
    {
     "name": "stdin",
     "output_type": "stream",
     "text": [
      "masukan umur anda:  11\n",
      "masukan tinggi anda:  200\n"
     ]
    },
    {
     "name": "stdout",
     "output_type": "stream",
     "text": [
      "nilai huruf mahasiswa 80000\n"
     ]
    }
   ],
   "source": [
    "umur = int(input('masukan umur anda: '))\n",
    "tinggi = int(input('masukan tinggi anda: '))\n",
    "\n",
    "\n",
    "\n",
    "if umur <=2:\n",
    "   tarif = \"dilarang masuk\"\n",
    "elif umur <=4 and tinggi <70:\n",
    "    tarif = 30000\n",
    "elif umur <=4 and tinggi >70:\n",
    "    tarif =40000\n",
    "elif umur <=7 and tinggi <120:\n",
    "    tarif = 40000\n",
    "elif umur <=7 and tinggi >120:\n",
    "    tarif = 55000\n",
    "elif umur <=10 and tinggi <150:\n",
    "    tarif = 50000\n",
    "elif umur <=10 and tinggi >150:\n",
    "    tarif = 70000\n",
    "elif umur >10:\n",
    "    tarif = 80000\n",
    " \n",
    "print(\"nilai huruf mahasiswa\" , tarif)"
   ]
  },
  {
   "cell_type": "code",
   "execution_count": null,
   "id": "35eed6a8-7de5-46c1-9667-d9ab93c419d3",
   "metadata": {},
   "outputs": [],
   "source": []
  },
  {
   "cell_type": "code",
   "execution_count": null,
   "id": "f0bd817d-9a39-47db-8d79-1204f81188f0",
   "metadata": {},
   "outputs": [],
   "source": []
  }
 ],
 "metadata": {
  "kernelspec": {
   "display_name": "Python 3 (ipykernel)",
   "language": "python",
   "name": "python3"
  },
  "language_info": {
   "codemirror_mode": {
    "name": "ipython",
    "version": 3
   },
   "file_extension": ".py",
   "mimetype": "text/x-python",
   "name": "python",
   "nbconvert_exporter": "python",
   "pygments_lexer": "ipython3",
   "version": "3.11.7"
  }
 },
 "nbformat": 4,
 "nbformat_minor": 5
}
